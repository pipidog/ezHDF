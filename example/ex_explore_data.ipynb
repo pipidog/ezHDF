{
 "cells": [
  {
   "cell_type": "markdown",
   "metadata": {},
   "source": [
    "# explore data using ezHDF\n",
    "ezHDF also offers a very convenient API for users to explore data stored in a HDF5 file if they are stored using ezHDF hdf_store. Let's first load the file we've just stored. Remember to use mode = 'r'. Use 'w' will erase all your stored data.    \n",
    "   \n",
    "**Note:**  \n",
    "currently ezHDF only allows you to explore data. You can not modify the data stored "
   ]
  },
  {
   "cell_type": "code",
   "execution_count": 1,
   "metadata": {},
   "outputs": [
    {
     "name": "stderr",
     "output_type": "stream",
     "text": [
      "/Users/shutingpi/anaconda3/lib/python3.6/site-packages/h5py/__init__.py:36: FutureWarning: Conversion of the second argument of issubdtype from `float` to `np.floating` is deprecated. In future, it will be treated as `np.float64 == np.dtype(float).type`.\n",
      "  from ._conv import register_converters as _register_converters\n"
     ]
    }
   ],
   "source": [
    "import sys; sys.path.insert(0,'/Users/shutingpi/Dropbox/ezHDF')\n",
    "from ezHDF.ezHDF import ezHDF\n",
    "import pandas as pd\n",
    "import numpy as np; np.random.seed(0)"
   ]
  },
  {
   "cell_type": "code",
   "execution_count": 2,
   "metadata": {},
   "outputs": [],
   "source": [
    "wkdir = '/Users/shutingpi/Dropbox/ezHDF/example/'\n",
    "store = ezHDF(wkdir = wkdir, hdf_name = 'my_hdf.h5', mode = 'r')"
   ]
  },
  {
   "cell_type": "markdown",
   "metadata": {},
   "source": [
    "# check info of the file"
   ]
  },
  {
   "cell_type": "code",
   "execution_count": 3,
   "metadata": {},
   "outputs": [
    {
     "name": "stdout",
     "output_type": "stream",
     "text": [
      "\n",
      "--- ezHDF hdf_store info ---\n",
      "\n",
      "dataset name: data1\n",
      "column names:\n",
      "   ['str0', 'int1', 'float2', 'float3', 'str4', 'str5', 'str6']\n",
      "column dtype:[ s , i , f , f , s , s , s ]\n",
      "n_rows: 10000\n",
      "n_container: 10000\n",
      "\n",
      "dataset name: data2\n",
      "column names:\n",
      "   ['str0', 'int1', 'str2', 'str3', 'float4', 'float5', 'str6']\n",
      "column dtype:[ s , i , s , s , f , f , s ]\n",
      "n_rows: 20000\n",
      "n_container: 20000\n",
      "\n"
     ]
    }
   ],
   "source": [
    "store.info()"
   ]
  },
  {
   "cell_type": "markdown",
   "metadata": {},
   "source": [
    "# Explore a dataset\n",
    "If you want to explore the dataset \"data1\", you can simple call the dataset explore. It will create an dataset explore object for you manupulate the data.  "
   ]
  },
  {
   "cell_type": "code",
   "execution_count": 4,
   "metadata": {},
   "outputs": [],
   "source": [
    "ds = store.explorer(ds_name = 'data1')"
   ]
  },
  {
   "cell_type": "markdown",
   "metadata": {},
   "source": [
    "# check information of the ds object\n",
    "just print it, it will show all the necessary information of this dataset. "
   ]
  },
  {
   "cell_type": "code",
   "execution_count": 5,
   "metadata": {},
   "outputs": [
    {
     "name": "stdout",
     "output_type": "stream",
     "text": [
      "ezHDF hanlder object:\n",
      "  dataset name: data1\n",
      "  column names: \n",
      "  [str0 , int1 , float2 , float3 , str4 , str5 , str6]\n",
      "  column dtype:\n",
      "  [s  ,  i  ,  f  ,  f  ,  s  ,  s  ,  s]\n",
      "  size of data: 10000\n",
      "  size of container 10000\n"
     ]
    }
   ],
   "source": [
    "print(ds)"
   ]
  },
  {
   "cell_type": "markdown",
   "metadata": {},
   "source": [
    "# Fetch data by slicing\n",
    "Now you can fetch your data by slicing using the row index and column names. The return is super convenient, **a pandas data frame!**  \n",
    "  \n",
    "Note that:  \n",
    "* the column can not use \"slice\" such as 1:3. You can only use a list for slicing.\n",
    "* In HDF5, data will be moved to RAM only when you slice it. Therefore, you should slice only a chunk of data when dealing with huge dataset. "
   ]
  },
  {
   "cell_type": "code",
   "execution_count": 6,
   "metadata": {},
   "outputs": [
    {
     "name": "stdout",
     "output_type": "stream",
     "text": [
      "                str0\n",
      "0           hJNDpcpA\n",
      "1  jGwbJmIFYwSwhjeVh\n",
      "2            ZNpYSwb\n",
      "3           nQjBoPjp\n",
      "4             BTQMgU\n"
     ]
    }
   ],
   "source": [
    "# slicing using column names\n",
    "df = ds[0:5,'str0']\n",
    "print(df)"
   ]
  },
  {
   "cell_type": "code",
   "execution_count": 7,
   "metadata": {},
   "outputs": [
    {
     "name": "stdout",
     "output_type": "stream",
     "text": [
      "                str0    float2                str5\n",
      "0           hJNDpcpA  0.423237     doKrkpzJmKGDDix\n",
      "1  jGwbJmIFYwSwhjeVh  0.979484             nJIaonN\n",
      "2            ZNpYSwb  0.963585         PLRYcItYPoe\n",
      "3           nQjBoPjp  0.381746               JseDV\n",
      "4             BTQMgU  0.309559  XyYvSGFkcaQNPNpgmS\n"
     ]
    }
   ],
   "source": [
    "# you can also slice using a list of column names\n",
    "df = ds[0:5,['str0','float2','str5']]\n",
    "print(df)"
   ]
  },
  {
   "cell_type": "code",
   "execution_count": 8,
   "metadata": {},
   "outputs": [
    {
     "name": "stdout",
     "output_type": "stream",
     "text": [
      "     float2\n",
      "0  0.423237\n",
      "1  0.979484\n",
      "2  0.963585\n",
      "3  0.381746\n",
      "4  0.309559\n"
     ]
    }
   ],
   "source": [
    "# of course you can slice use numeric indexes\n",
    "df = ds[0:5,2]\n",
    "print(df)"
   ]
  },
  {
   "cell_type": "code",
   "execution_count": 9,
   "metadata": {},
   "outputs": [
    {
     "name": "stdout",
     "output_type": "stream",
     "text": [
      "                str0    float2                  str4                 str6\n",
      "0           hJNDpcpA  0.423237        bZUXqFubbyCKCP       vySjHlNofqeNeE\n",
      "1  jGwbJmIFYwSwhjeVh  0.979484        LVdZZEyENWdcvZ            edBTaHlEA\n",
      "2            ZNpYSwb  0.963585  SoVCJtYtiuAAOXpYmxny  OcjYwHwrtFErHYhzGMN\n",
      "3           nQjBoPjp  0.381746    fmlKBIMbLjBvJYDitK                yuGNa\n",
      "4             BTQMgU  0.309559    AeYzNJgdDynHqEyWDD              beiMCJY\n"
     ]
    }
   ],
   "source": [
    "# let along a list of numeric indexes\n",
    "df = ds[0:5, [0,2,4,6]]\n",
    "print(df)"
   ]
  },
  {
   "cell_type": "markdown",
   "metadata": {},
   "source": [
    "# Get a batch of data\n",
    "When dealing wiht a large file, you may want to get only a chunk of data rather than loading the whold dataset into your RAM. To this regard, ezHDF offers a convenient batch generator (also a python generator) to get only a chunk of data. "
   ]
  },
  {
   "cell_type": "code",
   "execution_count": 10,
   "metadata": {},
   "outputs": [
    {
     "name": "stdout",
     "output_type": "stream",
     "text": [
      "(256, 7)\n",
      "(256, 7)\n",
      "(256, 7)\n",
      "(256, 7)\n",
      "(256, 7)\n",
      "(256, 7)\n",
      "(256, 7)\n",
      "(256, 7)\n",
      "(256, 7)\n",
      "(256, 7)\n",
      "(256, 7)\n",
      "(256, 7)\n",
      "(256, 7)\n",
      "(256, 7)\n",
      "(256, 7)\n",
      "(256, 7)\n",
      "(256, 7)\n",
      "(256, 7)\n",
      "(256, 7)\n",
      "(256, 7)\n",
      "(256, 7)\n",
      "(256, 7)\n",
      "(256, 7)\n",
      "(256, 7)\n",
      "(256, 7)\n",
      "(256, 7)\n",
      "(256, 7)\n",
      "(256, 7)\n",
      "(256, 7)\n",
      "(256, 7)\n",
      "(256, 7)\n",
      "(256, 7)\n",
      "(256, 7)\n",
      "(256, 7)\n",
      "(256, 7)\n",
      "(256, 7)\n",
      "(256, 7)\n",
      "(256, 7)\n",
      "(256, 7)\n",
      "(16, 7)\n"
     ]
    }
   ],
   "source": [
    "# define a batch data generator\n",
    "data_generator = ds.batch(batch_size = 256)\n",
    "# it's a generator, you can director use it in a for loop\n",
    "for data in data_generator:\n",
    "    print(data.shape)"
   ]
  },
  {
   "cell_type": "code",
   "execution_count": 11,
   "metadata": {},
   "outputs": [
    {
     "name": "stdout",
     "output_type": "stream",
     "text": [
      "                 str0  int1    float2    float3                  str4  \\\n",
      "0            hJNDpcpA   627  0.423237  0.829474        bZUXqFubbyCKCP   \n",
      "1   jGwbJmIFYwSwhjeVh   429  0.979484  0.475929        LVdZZEyENWdcvZ   \n",
      "2             ZNpYSwb   984  0.963585  0.022148  SoVCJtYtiuAAOXpYmxny   \n",
      "3            nQjBoPjp   362  0.381746  0.931910    fmlKBIMbLjBvJYDitK   \n",
      "4              BTQMgU   574  0.309559  0.723824    AeYzNJgdDynHqEyWDD   \n",
      "5    oATwdCasJncLZije    34  0.911361  0.847395          LNFaDBILpXZQ   \n",
      "6  KuIWxZatqqyAuqouXt   546  0.884977  0.668139               jFVZzdS   \n",
      "7     nkUgPsbqILzvpLO   361  0.439210  0.823291   vhNXvHRajNRYJXFWFbq   \n",
      "8      xLljzvqCTMqZXT    21  0.378707  0.136805          tNUlZdIyEGMu   \n",
      "9      xfqpURdrsWXXEB   926  0.212674  0.494258   jiROBNrVFCevuXfqmfu   \n",
      "\n",
      "                   str5                 str6  \n",
      "0       doKrkpzJmKGDDix       vySjHlNofqeNeE  \n",
      "1               nJIaonN            edBTaHlEA  \n",
      "2           PLRYcItYPoe  OcjYwHwrtFErHYhzGMN  \n",
      "3                 JseDV                yuGNa  \n",
      "4    XyYvSGFkcaQNPNpgmS              beiMCJY  \n",
      "5  OcWLBTCbKCcayPIgLelz       KyKLGTOrtXASiX  \n",
      "6  FynBliBaTSBASZrSrxWp           ClBiAbbfLN  \n",
      "7             SSUHXcmdI     JyVoyjfFdOhLfFiZ  \n",
      "8       WISdtYoHiPhVNWX   zvXxHlKoonQGxcYWPc  \n",
      "9        FhcuEfhgZZHSzT       JmBbODzaqKUesZ  \n"
     ]
    }
   ],
   "source": [
    "# you can also get a batch of data using the __next__() method\n",
    "# note that once the generator has gone through all data, you will need you call it again. \n",
    "data_generator = ds.batch(batch_size = 10)\n",
    "print(data_generator.__next__())"
   ]
  },
  {
   "cell_type": "markdown",
   "metadata": {},
   "source": [
    "# Get a random batch \n",
    "Once you have stored all your data in a HDF file, it is difficult to shuffle your data without loading all the data into RAM. It became an issue when dealing a huge amount of data. To this regard, ezHDF offers a cheap approach to help you get a random batch. \n",
    "\n",
    "Consider we have 1000 rows. we can first group the data by every 10 rows (e.g. 0~9, 10~29, ..., etc), called \"mini batch\". Therefore, we will have 100 mini batches totally. If we want 100 samples for each batch, ezHDF will randomly permute the 100 mini batches (e.g. 0~9, 100~109, 350~369,...,etc.) and and pick every 10 mini batch as a batch. (Note that ezHDF will shuffle all data in the batch again before output.) \n",
    "\n",
    "Therefore, if you use every 1 row as a mini batch, you will have a truely random batch data. However, it will be very time consuming because it needs to read data from disk many times. Therefore, you must trade off between the randomness and time. "
   ]
  },
  {
   "cell_type": "code",
   "execution_count": 12,
   "metadata": {},
   "outputs": [],
   "source": [
    "# use every 32 rows to for a mini batch. randomly pick 5 mini batches as a batch. \n",
    "# so each batch has 160 samples\n",
    "# note that once a mini batch has been picked in a batch, it will not appear in any future batch. \n",
    "random_data_generator = ds.random_batch(mini_batch_size = 32, n_mini_batch = 5)"
   ]
  },
  {
   "cell_type": "code",
   "execution_count": 13,
   "metadata": {},
   "outputs": [
    {
     "name": "stdout",
     "output_type": "stream",
     "text": [
      "(160, 7)\n",
      "(160, 7)\n",
      "(160, 7)\n",
      "(160, 7)\n",
      "(160, 7)\n",
      "(160, 7)\n",
      "(160, 7)\n",
      "(160, 7)\n",
      "(160, 7)\n",
      "(160, 7)\n",
      "(160, 7)\n",
      "(160, 7)\n",
      "(160, 7)\n",
      "(160, 7)\n",
      "(160, 7)\n",
      "(160, 7)\n",
      "(160, 7)\n",
      "(160, 7)\n",
      "(160, 7)\n",
      "(160, 7)\n",
      "(160, 7)\n",
      "(160, 7)\n",
      "(160, 7)\n",
      "(160, 7)\n",
      "(144, 7)\n",
      "(160, 7)\n",
      "(160, 7)\n",
      "(160, 7)\n",
      "(160, 7)\n",
      "(160, 7)\n",
      "(160, 7)\n",
      "(160, 7)\n",
      "(160, 7)\n",
      "(160, 7)\n",
      "(160, 7)\n",
      "(160, 7)\n",
      "(160, 7)\n",
      "(160, 7)\n",
      "(160, 7)\n",
      "(160, 7)\n",
      "(160, 7)\n",
      "(160, 7)\n",
      "(160, 7)\n",
      "(160, 7)\n",
      "(160, 7)\n",
      "(160, 7)\n",
      "(160, 7)\n",
      "(160, 7)\n",
      "(160, 7)\n",
      "(160, 7)\n",
      "(160, 7)\n",
      "(160, 7)\n",
      "(160, 7)\n",
      "(160, 7)\n",
      "(160, 7)\n",
      "(160, 7)\n",
      "(160, 7)\n",
      "(160, 7)\n",
      "(160, 7)\n",
      "(160, 7)\n",
      "(160, 7)\n",
      "(160, 7)\n"
     ]
    }
   ],
   "source": [
    "# get each batch using for loop. note that there is a batch that contains less than 160 samples \n",
    "# is no longer the last loop because ezHDF pick the mini batches randomly.\n",
    "for data in random_data_generator:\n",
    "    print(data.shape)"
   ]
  },
  {
   "cell_type": "code",
   "execution_count": 14,
   "metadata": {},
   "outputs": [
    {
     "name": "stdout",
     "output_type": "stream",
     "text": [
      "                     str0  int1    float2    float3                  str4  \\\n",
      "0                   WixPO   100  0.768776  0.334362               zpNRhaS   \n",
      "1                  bfJsTR   813  0.491949  0.343310              lzeHAHnC   \n",
      "2               mKwxBjKeU   223  0.119829  0.727196                 bLfiL   \n",
      "3       lgcvueljTbvikwUtb   786  0.898268  0.433156      ErKfPAIYyvhJxetg   \n",
      "4    ibUAWsvwqzmmpLUWIRuP   341  0.895168  0.322340              WiYUurbP   \n",
      "5            cREQuRGlBLef   698  0.404444  0.269234       sVLmqDDHefzZPik   \n",
      "6        RAedUkdefvELAICL   807  0.941902  0.891592         qkHGnUbWlOmYU   \n",
      "7            ZLlQIdmdvIcr   387  0.403868  0.709471          jIshrIqGphNB   \n",
      "8                  JyDWsp    85  0.982888  0.447901             iZsnUVIdV   \n",
      "9           MSYeFWkSfxELg   369  0.136309  0.855019     knYHzqzuntaCpTlGT   \n",
      "10                 kelWWV   932  0.969566  0.277107        xBGrEuESvnQEgX   \n",
      "11        WwcomAVuZTkmWTN    73  0.658990  0.561233             YKFMHmibk   \n",
      "12       YiiXDGUIcflShwxx    68  0.017531  0.358618           xzvpGbWrDYM   \n",
      "13    JdtTdFVGgwKFmyZPXAQ    38  0.183945  0.079824             RoeRodveu   \n",
      "14           VuiazOPofGea   845  0.048010  0.448776        KSdpdIzFeAyqMC   \n",
      "15              WwbeJEBNS    60  0.233947  0.500029             AKMyvfYyR   \n",
      "16      YHeOnMKdIMJuhEeGi   475  0.411769  0.006045          VnxHqbYDotSU   \n",
      "17   gAUcLhWiBSgWuwIMtTWz   923  0.622953  0.226717        lYrLmLUBXJJYCJ   \n",
      "18                 yfGoBJ   433  0.313094  0.804888      gCRSAayIgmInSDxW   \n",
      "19                  GGzwW   915  0.716974  0.472451          deZbaJMgNmQo   \n",
      "20             mQfyeICpDo   510  0.839694  0.581756            ZdCziraHSZ   \n",
      "21           PDRMxKYVrKbO   317  0.379724  0.286911   NRlARoehdscqYlBJOmB   \n",
      "22         QdrUfsDrMHDlaC   163  0.426641  0.670367             KblxvJfSG   \n",
      "23             cAaVQzGUAx   964  0.935308  0.684139           GLgICnkbgWZ   \n",
      "24       oKglnfBKNbGnYuRN   401  0.267644  0.187414         aCWvilJuJyrDZ   \n",
      "25              TJrsvXhqS   502  0.676782  0.561131   nydlZZrQAcZkhnTrDzq   \n",
      "26       IrvJaXXBgboSPnhD   481  0.896912  0.831488               AoIFzKT   \n",
      "27        ryGVhIfQUdjPmLy   115  0.563490  0.770348      BFOhlqaobQkjAhNP   \n",
      "28            oBIXLICyDVu   651  0.607147  0.165604              OFaEkjYM   \n",
      "29      HdFVMhxQVGEtGtCjc   132  0.931892  0.429101             czYRWiXHH   \n",
      "..                    ...   ...       ...       ...                   ...   \n",
      "130         YEIANgGvoGKER   670  0.892246  0.236576      XzKKkjXTEUjkxHLB   \n",
      "131             LrcdSDweA   137  0.965192  0.799632                iHnnJK   \n",
      "132                 uiGjj   652  0.470095  0.697307          UlcJqJfRTYBF   \n",
      "133            YXDrxVcQNc   167  0.262843  0.094280           IMEDZgWrAVJ   \n",
      "134          PdssFkWxBWwd   504  0.271445  0.674355        GiLvjBDMiQdhfh   \n",
      "135              WwFAaeNk   526  0.505249  0.543865          CtewvIlFtADg   \n",
      "136       YuIgQUarFnXicZa   421  0.591080  0.589174                GYsHUH   \n",
      "137              DCczRXdI   265  0.636064  0.252602               bUCoBDo   \n",
      "138        foOgWXqVufmKOi   861  0.081650  0.504916  IOpgsccifjePUrVZKiOY   \n",
      "139       MmwRMOsbeHjQkSU   448  0.050780  0.263506              sXkaRBVL   \n",
      "140              DqgTCYjK   585  0.141666  0.226259    DTlVhuTGvjsGkFBtDw   \n",
      "141         IAEnTJFNBUuyy   228  0.423814  0.080802           jwUEguOCtJj   \n",
      "142        LbrNNmdMdSdWSF   349  0.185919  0.419373     bPSdGqlSCdWGkNhoh   \n",
      "143               CXvnSyh   491  0.098156  0.423561       maQsuVTqqVVBGbs   \n",
      "144                 NSnDn   753  0.622816  0.613329         QfEEnQUjyvanL   \n",
      "145       ucDgVWNXKuavTkQ   765  0.760246  0.985443           YZodEqrxMxZ   \n",
      "146          OvNQJrzOkAod   281  0.662997  0.045212        DBQTaHuaYDhJiA   \n",
      "147      QCbCPmDkNbSNtvmE   416  0.912309  0.081830     EAKxnocfhnjIrMRhX   \n",
      "148           QbWuAKZtkut   739  0.802752  0.421001   JAJTHOxZCkNldMCjzsj   \n",
      "149      DhBktYuVDjlcAncc   425  0.382834  0.909550     gopFFFOWshTDPfIxx   \n",
      "150               RevIjuj   370  0.488029  0.020528    JAdHEVPpoFfMFaNSLi   \n",
      "151      YxYvtsMqRPJiEDvV   957  0.117503  0.421684       EyqeBHSMjkVZEjB   \n",
      "152           MfaQAJgvwyT   598  0.927421  0.934644                zJYkrF   \n",
      "153             wAbRTDrBn   975  0.265880  0.693792        hcSXUffWHUyUEo   \n",
      "154               zAwWzmB   454  0.437774  0.139012  IMIfsSPzThfrYXTIqFwP   \n",
      "155  FXxxpuHfBxAbagsfkfOL   486  0.015089  0.747715   UGVxUHhOOfzomvRBJIn   \n",
      "156                hivPeF   891  0.030037  0.363104             mEoOGgGBb   \n",
      "157                 lpCGn   531  0.525415  0.134134            pWrdfWRGnT   \n",
      "158     umUGIYRvTOQmroMtd   187  0.613127  0.508077      iapWdoJgUVOUftNY   \n",
      "159             OFLZlSiND   969  0.264861  0.220799                 OYUZD   \n",
      "\n",
      "                     str5                  str6  \n",
      "0               XNpJQKtZx  QVwxldOMtvvGJsnvZAps  \n",
      "1      kxXncfairRaJCkrbtY   TIMHctJQbuOIFqGHtwl  \n",
      "2         OeEJmcHwTZhOKVv    UgdVgfCFnsApTYrtrz  \n",
      "3       wRoadQNvCSZxaEPEY               lJVKriL  \n",
      "4      MlpSJIcCFDbtopHriU          vfxqScfEzvQc  \n",
      "5               wJQHCipuv      TcNJLjQAdrwVPNve  \n",
      "6                aBxOOklM        PSzjvzBxRjyYdD  \n",
      "7                mlJFSFvN         UduQkthpuZTwI  \n",
      "8                  IZQOqT           pABfpPFzlSc  \n",
      "9                MILMpQJs          gOqJuLpGSpaL  \n",
      "10                tGCuVZL             gVvnXYKsa  \n",
      "11        woOezGDPDEFEmjt         hPgXUCVdTwneP  \n",
      "12               FfcNyKzK                 CRCmL  \n",
      "13       vCFMGRbmKzIdEHUF        XGhySfgLAqjWiC  \n",
      "14                 OQHjig         gXYwEWpSzhWyB  \n",
      "15        NXBWkSqrlydhndA      DznoxcVlHqWbsffe  \n",
      "16   BdSFdVlKjImXvzCUgxWg        SWdXzxOJdIREtn  \n",
      "17                  bpxDa       hJRjUnjmVwBLibj  \n",
      "18       HAsUGkQZBQdijXLh                 zMVvL  \n",
      "19      gFyOHvFkKzNiFGbSI             hctekDetZ  \n",
      "20           jpaeWSacWgxh            iqgepOiLYW  \n",
      "21            mfgVBEhcSTZ               trywnlQ  \n",
      "22             wKMdwrlMcA  EzXmKwHRqjbqgTyoLQGE  \n",
      "23       fcywKykDIbJgRIyt         ODgJizAQQrILN  \n",
      "24                  RGUFJ   fjnWVCpyYzwkVUNATTk  \n",
      "25       wtOSQDooUwqFruyS  iDQhYyDnPDVGGDzgPPzl  \n",
      "26         YubfrgfESiytkO         ZEvaeHHCmGdSI  \n",
      "27              bsEVeWNlD     zoVTELDHboTMPynvJ  \n",
      "28    AETfjTEaOcuEDJtANgX               eCyOiYq  \n",
      "29    GPUmveRVpmuZDKxDzSS         ftsSkHJGOTdsm  \n",
      "..                    ...                   ...  \n",
      "130         RjuWzbbXlBwln     ZsHfyitSmpIrZRXDI  \n",
      "131            jDjTNJJjdZ               NMgIJjc  \n",
      "132                 pUTiq   hxeymEGbdcDfLLXMVhK  \n",
      "133              yjFJHfqK         VHWcrELlbdZzr  \n",
      "134         bpePUPXvtZXiF        rzuMwpOLWYxfPU  \n",
      "135      ffcxVwWdijBtGMJb       cVPcvKGcAMyUQgD  \n",
      "136              QEpctaqX      WWLJrIOrbPlkXIne  \n",
      "137    QcSkaApgarXouLsOXm   EulOCDiPGLQNeLIqVlg  \n",
      "138          sqgZYzouGwki  gJxXNwGHECjhZkgkjOSq  \n",
      "139        UjYueUsabCJgKF  uNSuJhXnNIGdHAydNEaR  \n",
      "140         aYUhcBZvKKbOV    tERyYmGuHdmGIvsplS  \n",
      "141               gZElNrj               WaVhewe  \n",
      "142   IMABnskLFkasZbwVQAA        ckNDgFBnHEhjYQ  \n",
      "143         tCqlJYvNkuADh                nVotgs  \n",
      "144                LXAcIe   hmUPUsooWvSIqnOSTbc  \n",
      "145      yLAcUcYXScKbnYsS          EQOAvrjGaWmg  \n",
      "146       ZtslONClcWGIYkH              DYwLHSsp  \n",
      "147  cBcWiausRnbRkgbryhZV              qlNrVERx  \n",
      "148                 jVdGw          RcPehwFeFEDN  \n",
      "149             dKyNIivvR    hKkgEVhjwJnVzDlRID  \n",
      "150              uStvPoJZ    ZrtAhegtREtyALyRcU  \n",
      "151          iAaUHPBKatzC                ujEQuX  \n",
      "152        gorvLYpabmKPfL              smZRVGcL  \n",
      "153           MCqKRNTaMlX      mRdWDsmxPfWPtQln  \n",
      "154   uevWLTymqKqjkdgwEBc   kZIPmAMQPYaxfXXaJEe  \n",
      "155             LsWIBrvmb    MWLunNtaIbmlTwNdfM  \n",
      "156      bgfTCFjevtOodzkz  AiBCtxCQHiaznOFBNjQA  \n",
      "157             APmagbDWD    ifkygPUTYSwOBibWsu  \n",
      "158               pUPajzj           cwWTmmXbDyk  \n",
      "159             csKrFQspW           gXEYTtGiVEg  \n",
      "\n",
      "[160 rows x 7 columns]\n"
     ]
    }
   ],
   "source": [
    "# also, you can get a random batch by __next__() method\n",
    "random_data_generator = ds.random_batch(mini_batch_size = 32, n_mini_batch = 5)\n",
    "print(random_data_generator.__next__())"
   ]
  },
  {
   "cell_type": "markdown",
   "metadata": {},
   "source": [
    "# control randomness\n",
    "you can also reset your random number generator. This will guarantee you get exact the same random batch. If you have two different datasets with the same number of rows and you want to get the random batch by exactly way (i.e. fetch the same rows for every batch), you can also use set reset_seed = True.   "
   ]
  },
  {
   "cell_type": "code",
   "execution_count": 15,
   "metadata": {},
   "outputs": [
    {
     "name": "stdout",
     "output_type": "stream",
     "text": [
      "                     str0  int1    float2    float3                  str4  \\\n",
      "0                 MexbinO   741  0.733865  0.592121         mfoYfYCogNnOQ   \n",
      "1    iNmDfTYvqDvPoOCRMCXg   307  0.179869  0.494822                 byqQs   \n",
      "2             iYDlSksMLBu   975  0.079313  0.365207              qWmRfwbS   \n",
      "3                 FhxztEm   731  0.044610  0.993928                wOKPGK   \n",
      "4                  pHvpHE    11  0.991088  0.532065                tIDGkf   \n",
      "5        FuKIwNVwGfxknEHP    55  0.098161  0.026445     iXuAyTdFzQdoxwIWJ   \n",
      "6                   eyEYq   575  0.452487  0.798744   rBMXsQirDOykneYeGGe   \n",
      "7           rCiKyMkmvIdjz   738  0.325645  0.667743    lbsdpaNsQIHWixOtiE   \n",
      "8                 dTpIaGS   857  0.091240  0.699233              RHvPBtsp   \n",
      "9      xseddGYTwUTqeOEIho   352  0.703463  0.811673               GhRgwbZ   \n",
      "10              cXlMySgbB   427  0.330221  0.317580             ngcNNWfmu   \n",
      "11         SNcVCuoINvVzEp   706  0.490399  0.244070      cOgMQvjaodjAVWbv   \n",
      "12   ipXKFkuPNrUAWpeSgNBg   524  0.578569  0.428845             YlPdMifRQ   \n",
      "13      GiaUjOsHHdkkFiBjU   484  0.986860  0.231330            bavYbkjfvn   \n",
      "14           grUlPHAFiYzf    55  0.671601  0.257249    JlgBZgQEzopASsSrSj   \n",
      "15             aoCkmQidcT   318  0.489310  0.525893                aocyvY   \n",
      "16      sbEGkDOihqffoZtBL   595  0.481206  0.174511             aIFjdCWPd   \n",
      "17         IwyJLtUscEKstI   274  0.410274  0.934004     AXISVbtVcJyUYspMs   \n",
      "18          jujHWSKgFsMeB   794  0.830058  0.726003    jRbYckznrtqRnaUWhL   \n",
      "19         tIBHdlHUTomGbc   929  0.310700  0.758038            FbbifoqSrI   \n",
      "20                 cmceLD   368  0.882408  0.861335      ryYfhjtyUdToBVHy   \n",
      "21           csiSCtqtsuDn   704  0.535474  0.011728          wfUXYKgjiysi   \n",
      "22           CssZMfcJmYUs   188  0.265993  0.262476     dGxKEpBfMaRIPsEcE   \n",
      "23        OHwEHsoTjPSJbCD   681  0.938282  0.938479       SZRGWVZGTKPVhTw   \n",
      "24             QcAtSdudpw   675  0.392965  0.220367    fjBOdMglhOubZoqPXX   \n",
      "25                 SyVdsh   373  0.780638  0.684059    BDrznLajPGUoYoltgZ   \n",
      "26           UdiHzlrixbpD   545  0.271962  0.744078        tuixyKcWjQUzNg   \n",
      "27        COzAcuNXfjEcbEx   905  0.241821  0.305470    GdCdMTtIiMMvuhNYZw   \n",
      "28                  vwpAI   507  0.950220  0.660816             dYSqIrPKL   \n",
      "29              ExsxQyKOx   926  0.268121  0.927895     OviwIXRkaiQcvkTVS   \n",
      "..                    ...   ...       ...       ...                   ...   \n",
      "130        sRXTvgqyiYbqXh   761  0.179431  0.154735       xGJemwnQRQOXLnJ   \n",
      "131   ApsSARMwLyrmRYFZeXf    13  0.689850  0.390542     UFJthreFZhTdMFrfM   \n",
      "132       TjoagSSPLzgdxKh   747  0.456234  0.771078      KvPbaAskOolrHucO   \n",
      "133  AJQAPcETaDXilDTQuVSx   872  0.199159  0.966112          AIxjwJYXdeIx   \n",
      "134     BeWifIyqCBOWkmNEG   496  0.950639  0.769423          MyruBANfmwwV   \n",
      "135           SDRbpBtgkHL   538  0.896585  0.392435        IrnKFLqsziuhQW   \n",
      "136         lvPOZjpWKZjJg    22  0.076281  0.592680       YslDZXjdzYgDLsp   \n",
      "137       xJsOLAOBdySMIUh     4  0.080122  0.791166     MwZDFNKtOjeuqbdSN   \n",
      "138         caJVmDmVlqmrJ   480  0.333022  0.291478               apepNZQ   \n",
      "139    qInRlgZFoPzmxSiWFT   108  0.111179  0.893384      pKzFZFBPEPzUYixc   \n",
      "140           opcviArrzIj    68  0.260331  0.612537              xiToLReV   \n",
      "141      hiLJKwPjqTnGtptx   840  0.740003  0.723771  chPpxDDxrJhnsmdULNZx   \n",
      "142   YYxmcTysDbCeQQKUvIF   454  0.269419  0.299248   XypdKlGLIHugcxcXuIi   \n",
      "143  yzthEHALRhopNZwDERWD   897  0.228946  0.051269                bNdsix   \n",
      "144               QpSjLkK   404  0.605507  0.914174     HyAtKkgoNmakRlTQM   \n",
      "145           kwpTpdpNBiw   436  0.340700  0.000681            icniFYTsRl   \n",
      "146    CfxYYvaUjYuquHwRRv   102  0.076967  0.689254        NfFJsEzflpFnsE   \n",
      "147     AejsEMPRmZmaFnLFd   245  0.866779  0.376691          aYpqqEeVFRzg   \n",
      "148                 APKRC     1  0.551435  0.673272                 cnfhq   \n",
      "149                 IyCdQ   778  0.533126  0.795333            POfZPKqJrz   \n",
      "150        QwbkkQuKcRsujH   464  0.322578  0.664973             jBcQNpQoN   \n",
      "151                 UfmBN   668  0.450106  0.993343   FIydzboxLdnDHLblqDK   \n",
      "152           lHkarTFsZGZ     9  0.510895  0.305168    vbCrDPzcFUkEyifWji   \n",
      "153    ChmickxnIoGEueHyeb   523  0.418692  0.285189        hGKSNwqHDGsKpC   \n",
      "154       bQYfZAClfOtCFDc   727  0.090423  0.608665             prXjSEWcy   \n",
      "155    zglgURIsQHdsPzJYck   753  0.788673  0.979603             wwHVNIKXr   \n",
      "156                jKEbbs   905  0.023267  0.239322              jkQhaNeh   \n",
      "157       TTkoScYXbKUCoWX   725  0.620664  0.919427               HtmXrMK   \n",
      "158              wKdyMVCT   681  0.812234  0.500258          idgeJpMJLbwY   \n",
      "159     vMozRXKVBFhnmQyyd   732  0.756043  0.914913          botAKGTYcBPo   \n",
      "\n",
      "                     str5                  str6  \n",
      "0          mrBtjgKNBunAcd      VtOMUiKhdEnBPWOD  \n",
      "1           oBxODVdYenPCR         XiHHPclJFtXSB  \n",
      "2                 PLuRsJz    eBsFThWZOgazHGqNxB  \n",
      "3    BizcQZwJRKQonhTlcUGu       emsLhmHTahqHDhP  \n",
      "4        MCDnuqJoOgTEBxrE   lMUIqsJSdNYekTlsgdu  \n",
      "5               ryhucpEfU                 Zedgv  \n",
      "6        DSKTMeZDLKtsbBvH            VRnbdFLgGp  \n",
      "7                eDPhyFMR          VchDoVfoNpae  \n",
      "8                 TbxDliN    GAIZmsJnHmUhYhMONo  \n",
      "9                QrdqXUuY  KeTngItYiQOfuzUjBDtB  \n",
      "10                 NgvrGu    EfNMDBlkrAsrKUUieK  \n",
      "11         JerjglNAbsLNdM             okaCmJEMD  \n",
      "12            AMsZXyUEjiS     JYYdhGafMBcGSYmOe  \n",
      "13                 LWxeyl               YgngdaQ  \n",
      "14      JLgozvLmTsVjztXwT            HixrkoeKov  \n",
      "15             IdDxlbqlhK    lqQJQqxtwoWSqGwfHU  \n",
      "16            fwLAcJGfviz              ZDZEXHSY  \n",
      "17             PfKzgdgDMd  NVvuYLHILbLBrsdbCwOT  \n",
      "18   iRxCLKINxXbBiOjGykmC            mMzHSisbIp  \n",
      "19              wfpZQHnug       dyDYzAaWKBNtSds  \n",
      "20         KNRCuZrpDbgQTY       JelUDeFvVdfcFvU  \n",
      "21      iFzGsxnVDEpslIzQJ       JHLPxUbzJGddEcD  \n",
      "22                  FjRwL           wLGXyuOicRz  \n",
      "23          gXKPMqVyneCoH        sgOydDOjwbvotG  \n",
      "24       KgZFkLQteYfPEPHn            YwDqpNhLYh  \n",
      "25    YZAtnlgJDGmghVHigtX               UFIsDer  \n",
      "26                 FXvUUN        QOMqJcOIDqYDbi  \n",
      "27       hEIbIYaCUeCepybP       cLzrsaNmpmAzzok  \n",
      "28             yQOYEsGAlf    IPJUPfubbHXLBPYYyv  \n",
      "29           TUSslmTfZhAY            bJCDrjLsXQ  \n",
      "..                    ...                   ...  \n",
      "130       EVDGcgnsuIgVDdn         OGsDmDKWQPnMp  \n",
      "131                fNjxYq             njQVGUwdD  \n",
      "132      dnReUSXzKCLRjCir                kCrLLB  \n",
      "133       ZwmTpXLwHkXdKqf      qseIPxjbSIBUMGtV  \n",
      "134     NmRCJwlZapVXGhjSQ        ULaiUQYBCHsjjs  \n",
      "135             mqxMKPuDh                vonorz  \n",
      "136             gatlWMQFr      GeWUogAZTXyvxRVT  \n",
      "137     dSvAJxjfSGxShUZKj    ogpzUqupfkXLGbybjS  \n",
      "138   vZPPBIQdvqWMTMWhqbR            sMCqdFVsCE  \n",
      "139                mFSAId  QVgKIzuSugHsnbEmSuGV  \n",
      "140            oWtVXaDTfH      YZffJNCOXuTlmhhR  \n",
      "141      gvZKHimjxDsWZIQw      NIliNRzgdkNBxJch  \n",
      "142      wgMsLlhFLIxuWDky            IllmtFllgq  \n",
      "143       HMZARwTPicskSrg           XgvgxaERgaL  \n",
      "144              kERRiaGE                 XWDHi  \n",
      "145          NwNxdxIHllBj   sqsErCkoAjLxSTQtaHQ  \n",
      "146              QTAuAeoY               VNgfRqe  \n",
      "147           OWuhwTrjWez    kpltFfdZPyljtYqBuz  \n",
      "148          PqPURlpEeskB             gdmgKKKdw  \n",
      "149             HUPfJIDoH               VApGxNh  \n",
      "150         ALAzUZimQQCAN     LGjYbOucvZrkwaghW  \n",
      "151  CtLiCBucASOATCEzrcTI       BmbOwxCPwpFxRXL  \n",
      "152           moKHYtdZFdV                 arpHT  \n",
      "153      oGOxmTpbSpcScZsg          usxDoHqJMvZa  \n",
      "154          kWixxyfJxBFG                fqRNWI  \n",
      "155        fWYhgfmcEvXcMz  pINqaAtVnJWTDijiAewb  \n",
      "156         spkuVEzkuPrlD    QSicQqsTFoXKGomKSJ  \n",
      "157  VRouHPFMBguphMJVkvVg      kNeQprryDdlTYmyU  \n",
      "158    FGreuaWXFIZjEGoPBX           eUTObecNQCw  \n",
      "159              wHDrlSBa      iiqRWewOmsNZAwgX  \n",
      "\n",
      "[160 rows x 7 columns]\n"
     ]
    }
   ],
   "source": [
    "random_data_generator = ds.random_batch(mini_batch_size = 32, n_mini_batch = 5, reset_seed = True)\n",
    "print(random_data_generator.__next__())"
   ]
  },
  {
   "cell_type": "code",
   "execution_count": 16,
   "metadata": {},
   "outputs": [
    {
     "name": "stdout",
     "output_type": "stream",
     "text": [
      "                     str0  int1    float2    float3                  str4  \\\n",
      "0                 MexbinO   741  0.733865  0.592121         mfoYfYCogNnOQ   \n",
      "1    iNmDfTYvqDvPoOCRMCXg   307  0.179869  0.494822                 byqQs   \n",
      "2             iYDlSksMLBu   975  0.079313  0.365207              qWmRfwbS   \n",
      "3                 FhxztEm   731  0.044610  0.993928                wOKPGK   \n",
      "4                  pHvpHE    11  0.991088  0.532065                tIDGkf   \n",
      "5        FuKIwNVwGfxknEHP    55  0.098161  0.026445     iXuAyTdFzQdoxwIWJ   \n",
      "6                   eyEYq   575  0.452487  0.798744   rBMXsQirDOykneYeGGe   \n",
      "7           rCiKyMkmvIdjz   738  0.325645  0.667743    lbsdpaNsQIHWixOtiE   \n",
      "8                 dTpIaGS   857  0.091240  0.699233              RHvPBtsp   \n",
      "9      xseddGYTwUTqeOEIho   352  0.703463  0.811673               GhRgwbZ   \n",
      "10              cXlMySgbB   427  0.330221  0.317580             ngcNNWfmu   \n",
      "11         SNcVCuoINvVzEp   706  0.490399  0.244070      cOgMQvjaodjAVWbv   \n",
      "12   ipXKFkuPNrUAWpeSgNBg   524  0.578569  0.428845             YlPdMifRQ   \n",
      "13      GiaUjOsHHdkkFiBjU   484  0.986860  0.231330            bavYbkjfvn   \n",
      "14           grUlPHAFiYzf    55  0.671601  0.257249    JlgBZgQEzopASsSrSj   \n",
      "15             aoCkmQidcT   318  0.489310  0.525893                aocyvY   \n",
      "16      sbEGkDOihqffoZtBL   595  0.481206  0.174511             aIFjdCWPd   \n",
      "17         IwyJLtUscEKstI   274  0.410274  0.934004     AXISVbtVcJyUYspMs   \n",
      "18          jujHWSKgFsMeB   794  0.830058  0.726003    jRbYckznrtqRnaUWhL   \n",
      "19         tIBHdlHUTomGbc   929  0.310700  0.758038            FbbifoqSrI   \n",
      "20                 cmceLD   368  0.882408  0.861335      ryYfhjtyUdToBVHy   \n",
      "21           csiSCtqtsuDn   704  0.535474  0.011728          wfUXYKgjiysi   \n",
      "22           CssZMfcJmYUs   188  0.265993  0.262476     dGxKEpBfMaRIPsEcE   \n",
      "23        OHwEHsoTjPSJbCD   681  0.938282  0.938479       SZRGWVZGTKPVhTw   \n",
      "24             QcAtSdudpw   675  0.392965  0.220367    fjBOdMglhOubZoqPXX   \n",
      "25                 SyVdsh   373  0.780638  0.684059    BDrznLajPGUoYoltgZ   \n",
      "26           UdiHzlrixbpD   545  0.271962  0.744078        tuixyKcWjQUzNg   \n",
      "27        COzAcuNXfjEcbEx   905  0.241821  0.305470    GdCdMTtIiMMvuhNYZw   \n",
      "28                  vwpAI   507  0.950220  0.660816             dYSqIrPKL   \n",
      "29              ExsxQyKOx   926  0.268121  0.927895     OviwIXRkaiQcvkTVS   \n",
      "..                    ...   ...       ...       ...                   ...   \n",
      "130        sRXTvgqyiYbqXh   761  0.179431  0.154735       xGJemwnQRQOXLnJ   \n",
      "131   ApsSARMwLyrmRYFZeXf    13  0.689850  0.390542     UFJthreFZhTdMFrfM   \n",
      "132       TjoagSSPLzgdxKh   747  0.456234  0.771078      KvPbaAskOolrHucO   \n",
      "133  AJQAPcETaDXilDTQuVSx   872  0.199159  0.966112          AIxjwJYXdeIx   \n",
      "134     BeWifIyqCBOWkmNEG   496  0.950639  0.769423          MyruBANfmwwV   \n",
      "135           SDRbpBtgkHL   538  0.896585  0.392435        IrnKFLqsziuhQW   \n",
      "136         lvPOZjpWKZjJg    22  0.076281  0.592680       YslDZXjdzYgDLsp   \n",
      "137       xJsOLAOBdySMIUh     4  0.080122  0.791166     MwZDFNKtOjeuqbdSN   \n",
      "138         caJVmDmVlqmrJ   480  0.333022  0.291478               apepNZQ   \n",
      "139    qInRlgZFoPzmxSiWFT   108  0.111179  0.893384      pKzFZFBPEPzUYixc   \n",
      "140           opcviArrzIj    68  0.260331  0.612537              xiToLReV   \n",
      "141      hiLJKwPjqTnGtptx   840  0.740003  0.723771  chPpxDDxrJhnsmdULNZx   \n",
      "142   YYxmcTysDbCeQQKUvIF   454  0.269419  0.299248   XypdKlGLIHugcxcXuIi   \n",
      "143  yzthEHALRhopNZwDERWD   897  0.228946  0.051269                bNdsix   \n",
      "144               QpSjLkK   404  0.605507  0.914174     HyAtKkgoNmakRlTQM   \n",
      "145           kwpTpdpNBiw   436  0.340700  0.000681            icniFYTsRl   \n",
      "146    CfxYYvaUjYuquHwRRv   102  0.076967  0.689254        NfFJsEzflpFnsE   \n",
      "147     AejsEMPRmZmaFnLFd   245  0.866779  0.376691          aYpqqEeVFRzg   \n",
      "148                 APKRC     1  0.551435  0.673272                 cnfhq   \n",
      "149                 IyCdQ   778  0.533126  0.795333            POfZPKqJrz   \n",
      "150        QwbkkQuKcRsujH   464  0.322578  0.664973             jBcQNpQoN   \n",
      "151                 UfmBN   668  0.450106  0.993343   FIydzboxLdnDHLblqDK   \n",
      "152           lHkarTFsZGZ     9  0.510895  0.305168    vbCrDPzcFUkEyifWji   \n",
      "153    ChmickxnIoGEueHyeb   523  0.418692  0.285189        hGKSNwqHDGsKpC   \n",
      "154       bQYfZAClfOtCFDc   727  0.090423  0.608665             prXjSEWcy   \n",
      "155    zglgURIsQHdsPzJYck   753  0.788673  0.979603             wwHVNIKXr   \n",
      "156                jKEbbs   905  0.023267  0.239322              jkQhaNeh   \n",
      "157       TTkoScYXbKUCoWX   725  0.620664  0.919427               HtmXrMK   \n",
      "158              wKdyMVCT   681  0.812234  0.500258          idgeJpMJLbwY   \n",
      "159     vMozRXKVBFhnmQyyd   732  0.756043  0.914913          botAKGTYcBPo   \n",
      "\n",
      "                     str5                  str6  \n",
      "0          mrBtjgKNBunAcd      VtOMUiKhdEnBPWOD  \n",
      "1           oBxODVdYenPCR         XiHHPclJFtXSB  \n",
      "2                 PLuRsJz    eBsFThWZOgazHGqNxB  \n",
      "3    BizcQZwJRKQonhTlcUGu       emsLhmHTahqHDhP  \n",
      "4        MCDnuqJoOgTEBxrE   lMUIqsJSdNYekTlsgdu  \n",
      "5               ryhucpEfU                 Zedgv  \n",
      "6        DSKTMeZDLKtsbBvH            VRnbdFLgGp  \n",
      "7                eDPhyFMR          VchDoVfoNpae  \n",
      "8                 TbxDliN    GAIZmsJnHmUhYhMONo  \n",
      "9                QrdqXUuY  KeTngItYiQOfuzUjBDtB  \n",
      "10                 NgvrGu    EfNMDBlkrAsrKUUieK  \n",
      "11         JerjglNAbsLNdM             okaCmJEMD  \n",
      "12            AMsZXyUEjiS     JYYdhGafMBcGSYmOe  \n",
      "13                 LWxeyl               YgngdaQ  \n",
      "14      JLgozvLmTsVjztXwT            HixrkoeKov  \n",
      "15             IdDxlbqlhK    lqQJQqxtwoWSqGwfHU  \n",
      "16            fwLAcJGfviz              ZDZEXHSY  \n",
      "17             PfKzgdgDMd  NVvuYLHILbLBrsdbCwOT  \n",
      "18   iRxCLKINxXbBiOjGykmC            mMzHSisbIp  \n",
      "19              wfpZQHnug       dyDYzAaWKBNtSds  \n",
      "20         KNRCuZrpDbgQTY       JelUDeFvVdfcFvU  \n",
      "21      iFzGsxnVDEpslIzQJ       JHLPxUbzJGddEcD  \n",
      "22                  FjRwL           wLGXyuOicRz  \n",
      "23          gXKPMqVyneCoH        sgOydDOjwbvotG  \n",
      "24       KgZFkLQteYfPEPHn            YwDqpNhLYh  \n",
      "25    YZAtnlgJDGmghVHigtX               UFIsDer  \n",
      "26                 FXvUUN        QOMqJcOIDqYDbi  \n",
      "27       hEIbIYaCUeCepybP       cLzrsaNmpmAzzok  \n",
      "28             yQOYEsGAlf    IPJUPfubbHXLBPYYyv  \n",
      "29           TUSslmTfZhAY            bJCDrjLsXQ  \n",
      "..                    ...                   ...  \n",
      "130       EVDGcgnsuIgVDdn         OGsDmDKWQPnMp  \n",
      "131                fNjxYq             njQVGUwdD  \n",
      "132      dnReUSXzKCLRjCir                kCrLLB  \n",
      "133       ZwmTpXLwHkXdKqf      qseIPxjbSIBUMGtV  \n",
      "134     NmRCJwlZapVXGhjSQ        ULaiUQYBCHsjjs  \n",
      "135             mqxMKPuDh                vonorz  \n",
      "136             gatlWMQFr      GeWUogAZTXyvxRVT  \n",
      "137     dSvAJxjfSGxShUZKj    ogpzUqupfkXLGbybjS  \n",
      "138   vZPPBIQdvqWMTMWhqbR            sMCqdFVsCE  \n",
      "139                mFSAId  QVgKIzuSugHsnbEmSuGV  \n",
      "140            oWtVXaDTfH      YZffJNCOXuTlmhhR  \n",
      "141      gvZKHimjxDsWZIQw      NIliNRzgdkNBxJch  \n",
      "142      wgMsLlhFLIxuWDky            IllmtFllgq  \n",
      "143       HMZARwTPicskSrg           XgvgxaERgaL  \n",
      "144              kERRiaGE                 XWDHi  \n",
      "145          NwNxdxIHllBj   sqsErCkoAjLxSTQtaHQ  \n",
      "146              QTAuAeoY               VNgfRqe  \n",
      "147           OWuhwTrjWez    kpltFfdZPyljtYqBuz  \n",
      "148          PqPURlpEeskB             gdmgKKKdw  \n",
      "149             HUPfJIDoH               VApGxNh  \n",
      "150         ALAzUZimQQCAN     LGjYbOucvZrkwaghW  \n",
      "151  CtLiCBucASOATCEzrcTI       BmbOwxCPwpFxRXL  \n",
      "152           moKHYtdZFdV                 arpHT  \n",
      "153      oGOxmTpbSpcScZsg          usxDoHqJMvZa  \n",
      "154          kWixxyfJxBFG                fqRNWI  \n",
      "155        fWYhgfmcEvXcMz  pINqaAtVnJWTDijiAewb  \n",
      "156         spkuVEzkuPrlD    QSicQqsTFoXKGomKSJ  \n",
      "157  VRouHPFMBguphMJVkvVg      kNeQprryDdlTYmyU  \n",
      "158    FGreuaWXFIZjEGoPBX           eUTObecNQCw  \n",
      "159              wHDrlSBa      iiqRWewOmsNZAwgX  \n",
      "\n",
      "[160 rows x 7 columns]\n"
     ]
    }
   ],
   "source": [
    "# create the object again, you will get exactly the same random batch \n",
    "random_data_generator = ds.random_batch(mini_batch_size = 32, n_mini_batch = 5, reset_seed = True)\n",
    "print(random_data_generator.__next__())"
   ]
  },
  {
   "cell_type": "code",
   "execution_count": null,
   "metadata": {},
   "outputs": [],
   "source": []
  },
  {
   "cell_type": "code",
   "execution_count": 17,
   "metadata": {},
   "outputs": [],
   "source": [
    "store.close()"
   ]
  }
 ],
 "metadata": {
  "kernelspec": {
   "display_name": "Python 3",
   "language": "python",
   "name": "python3"
  },
  "language_info": {
   "codemirror_mode": {
    "name": "ipython",
    "version": 3
   },
   "file_extension": ".py",
   "mimetype": "text/x-python",
   "name": "python",
   "nbconvert_exporter": "python",
   "pygments_lexer": "ipython3",
   "version": "3.6.5"
  }
 },
 "nbformat": 4,
 "nbformat_minor": 2
}
