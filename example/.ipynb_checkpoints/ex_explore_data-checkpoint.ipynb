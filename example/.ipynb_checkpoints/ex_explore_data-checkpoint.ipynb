{
 "cells": [
  {
   "cell_type": "markdown",
   "metadata": {},
   "source": [
    "# explore data using ezHDF\n",
    "ezHDF also offers a very convenient API for users to explore data stored in a HDF5 file if they are stored using ezHDF hdf_store. Let's first load the file we've just stored. Remember to use mode = 'r' or 'a'. Use 'w' will erase all your stored data. "
   ]
  },
  {
   "cell_type": "code",
   "execution_count": 1,
   "metadata": {},
   "outputs": [
    {
     "name": "stderr",
     "output_type": "stream",
     "text": [
      "/Users/shutingpi/anaconda3/lib/python3.6/site-packages/h5py/__init__.py:36: FutureWarning: Conversion of the second argument of issubdtype from `float` to `np.floating` is deprecated. In future, it will be treated as `np.float64 == np.dtype(float).type`.\n",
      "  from ._conv import register_converters as _register_converters\n"
     ]
    }
   ],
   "source": [
    "import sys; sys.path.insert(0,'/Users/shutingpi/Dropbox/ezHDF')\n",
    "from ezHDF.ezHDF import hdf_store\n",
    "import pandas as pd"
   ]
  },
  {
   "cell_type": "code",
   "execution_count": 2,
   "metadata": {},
   "outputs": [],
   "source": [
    "wkdir = '/Users/shutingpi/Dropbox/ezHDF/example/'\n",
    "store = hdf_store(wkdir = wkdir, hdf_name = 'my_hdf.h5', mode = 'r')"
   ]
  },
  {
   "cell_type": "markdown",
   "metadata": {},
   "source": [
    "# check info of the file"
   ]
  },
  {
   "cell_type": "code",
   "execution_count": 3,
   "metadata": {},
   "outputs": [
    {
     "name": "stdout",
     "output_type": "stream",
     "text": [
      "\n",
      "--- ezHDF hdf_store info ---\n",
      "\n",
      "dataset name: data1\n",
      "column names:\n",
      "   ['str0', 'int1', 'float2', 'float3', 'str4', 'str5', 'str6']\n",
      "column dtype: s , i , f , f , s , s , s\n",
      "n_rows: 10000\n",
      "n_container: 10000\n",
      "\n",
      "dataset name: data2\n",
      "column names:\n",
      "   ['str0', 'int1', 'str2', 'str3', 'float4', 'float5', 'str6']\n",
      "column dtype: s , i , s , s , f , f , s\n",
      "n_rows: 20000\n",
      "n_container: 20000\n",
      "\n"
     ]
    }
   ],
   "source": [
    "store.info()"
   ]
  },
  {
   "cell_type": "markdown",
   "metadata": {},
   "source": [
    "# Explore a dataset\n",
    "If you want to explore the dataset \"data1\", you can simple call the dataset explore. It will create an dataset explore object for you manupulate the data.  "
   ]
  },
  {
   "cell_type": "code",
   "execution_count": 10,
   "metadata": {},
   "outputs": [],
   "source": [
    "ds = store.ds_explorer(ds_name = 'data1')"
   ]
  },
  {
   "cell_type": "markdown",
   "metadata": {},
   "source": [
    "# check information of the ds object\n",
    "just print it, it will show all the necessary information of this dataset. "
   ]
  },
  {
   "cell_type": "code",
   "execution_count": 5,
   "metadata": {},
   "outputs": [
    {
     "name": "stdout",
     "output_type": "stream",
     "text": [
      "ezHDF hanlder object:\n",
      "  dataset name: data1\n",
      "  column names: \n",
      "  [str0 , int1 , float2 , float3 , str4 , str5 , str6]\n",
      "  column dtype:\n",
      "  [s , i , f , f , s , s , s]\n",
      "  size of data: 10000\n",
      "  size of container 10000\n"
     ]
    }
   ],
   "source": [
    "print(ds)"
   ]
  },
  {
   "cell_type": "markdown",
   "metadata": {},
   "source": [
    "# Fetch data by slicing\n",
    "Now you can fetch your data by slicing using the row index and column names. The return is super convenient, **a pandas data frame!**  \n",
    "  \n",
    "Note that:  \n",
    "* the column can not use \"slice\" such as 1:3. You can only use a list for slicing.\n",
    "* In HDF5, data will be moved to RAM only when you slice it. Therefore, you should slice only a chunk of data when dealing with huge dataset. "
   ]
  },
  {
   "cell_type": "code",
   "execution_count": 6,
   "metadata": {},
   "outputs": [
    {
     "name": "stdout",
     "output_type": "stream",
     "text": [
      "                str0\n",
      "0           hJNDpcpA\n",
      "1  jGwbJmIFYwSwhjeVh\n",
      "2            ZNpYSwb\n",
      "3           nQjBoPjp\n",
      "4             BTQMgU\n"
     ]
    }
   ],
   "source": [
    "# slicing using column names\n",
    "df = ds[0:5,'str0']\n",
    "print(df)"
   ]
  },
  {
   "cell_type": "code",
   "execution_count": 7,
   "metadata": {},
   "outputs": [
    {
     "name": "stdout",
     "output_type": "stream",
     "text": [
      "                str0    float2                str5\n",
      "0           hJNDpcpA  0.423237     doKrkpzJmKGDDix\n",
      "1  jGwbJmIFYwSwhjeVh  0.979484             nJIaonN\n",
      "2            ZNpYSwb  0.963585         PLRYcItYPoe\n",
      "3           nQjBoPjp  0.381746               JseDV\n",
      "4             BTQMgU  0.309559  XyYvSGFkcaQNPNpgmS\n"
     ]
    }
   ],
   "source": [
    "# you can also slice using a list of column names\n",
    "df = ds[0:5,['str0','float2','str5']]\n",
    "print(df)"
   ]
  },
  {
   "cell_type": "code",
   "execution_count": 8,
   "metadata": {},
   "outputs": [
    {
     "name": "stdout",
     "output_type": "stream",
     "text": [
      "     float2\n",
      "0  0.423237\n",
      "1  0.979484\n",
      "2  0.963585\n",
      "3  0.381746\n",
      "4  0.309559\n"
     ]
    }
   ],
   "source": [
    "# of course you can slice use numeric indexes\n",
    "df = ds[0:5,2]\n",
    "print(df)"
   ]
  },
  {
   "cell_type": "code",
   "execution_count": 11,
   "metadata": {},
   "outputs": [
    {
     "name": "stdout",
     "output_type": "stream",
     "text": [
      "                str0    float2                  str4                 str6\n",
      "0           hJNDpcpA  0.423237        bZUXqFubbyCKCP       vySjHlNofqeNeE\n",
      "1  jGwbJmIFYwSwhjeVh  0.979484        LVdZZEyENWdcvZ            edBTaHlEA\n",
      "2            ZNpYSwb  0.963585  SoVCJtYtiuAAOXpYmxny  OcjYwHwrtFErHYhzGMN\n",
      "3           nQjBoPjp  0.381746    fmlKBIMbLjBvJYDitK                yuGNa\n",
      "4             BTQMgU  0.309559    AeYzNJgdDynHqEyWDD              beiMCJY\n"
     ]
    }
   ],
   "source": [
    "# let along a list of numeric indexes\n",
    "df = ds[0:5, [0,2,4,6]]\n",
    "print(df)"
   ]
  },
  {
   "cell_type": "markdown",
   "metadata": {},
   "source": [
    "# Enjoy it !"
   ]
  },
  {
   "cell_type": "code",
   "execution_count": null,
   "metadata": {},
   "outputs": [],
   "source": []
  }
 ],
 "metadata": {
  "kernelspec": {
   "display_name": "Python 3",
   "language": "python",
   "name": "python3"
  },
  "language_info": {
   "codemirror_mode": {
    "name": "ipython",
    "version": 3
   },
   "file_extension": ".py",
   "mimetype": "text/x-python",
   "name": "python",
   "nbconvert_exporter": "python",
   "pygments_lexer": "ipython3",
   "version": "3.6.5"
  }
 },
 "nbformat": 4,
 "nbformat_minor": 2
}
